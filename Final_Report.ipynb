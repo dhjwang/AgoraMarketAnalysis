{
 "cells": [
  {
   "cell_type": "markdown",
   "metadata": {},
   "source": [
    "# <center>The Dark Web</center>"
   ]
  },
  {
   "cell_type": "markdown",
   "metadata": {},
   "source": [
    "## <center>Andy Alba, Andy Garcia, Jiemin Huang, David Wang</center>##"
   ]
  },
  {
   "cell_type": "markdown",
   "metadata": {},
   "source": [
    "### Introduction"
   ]
  },
  {
   "cell_type": "markdown",
   "metadata": {},
   "source": [
    "Our project will examine the 6% of the internet commonly known as the dark web. The dark web is notorious for its unrestricted content and the growing markets that support the circulation of illicit goods or services. The promised anonymity induced an increase in criminal activity on the dark web; darknet marketplaces became populated with buyers. This, in turn, allowed for the flourishing of several cryptomarkets even if it was only for a short period of time. The average darknet market lasted slightly over eight months before its closure. The longest lasting market still in existence established in 2013 (EMCDDA). However, the main focus for this project is not the lifetime of cryptomarkets but instead the lifespan of vendors.<br>\n",
    "\n",
    "Examples of discourses for this topic include the investigation into the relationship between cryptocurrency and illegal activity, the discussion on impacts of police crackdowns on cryptomarkets, the geographical analysis on popular markets and etc. (Gwern et al.). With that said, the spotlight is often shifted away from the vendors who are crucial to the markets itself. The purpose of this project is to identify, analyze, and compare the characteristics of successful vendors and characteristics of their counterparts in order to increase the number of successful sellers; we want to promote a more effective market. <br>\n",
    "\n",
    "We define ‘successful vendors’ to meet 2 basic criterias: long life span and high rating. We will investigate and explain the geographical distribution of illegal goods and services and provide analysis on seller lifetimes using the metadata on one of the cryptomarkets, Agora. We ask questions such as:\n",
    "\n",
    "- How does category popularity change by country? \n",
    "- What is the correlation between a seller’s reputation and their lifespan? How much longer can top rated vendors stay in market compared to low rated vendors? Are sellers consistently active? \n",
    "- Do vendors tend to sell goods and/or services in only one category? If they sell in multiple categories, are their lifespans the same for all the categories?\n",
    "- What do successful vendors have in common? Are what top rated, active vendors selling in congruence with the rest of the vendors? What exactly are they selling?"
   ]
  },
  {
   "cell_type": "markdown",
   "metadata": {},
   "source": [
    "### Frequency of Listings by Country Plot Analysis"
   ]
  },
  {
   "cell_type": "markdown",
   "metadata": {},
   "source": [
    "We begin by looking at where the majority of vendors are located for each category. The following choropleth maps created using the Kaggle data depict the frequency of listings in different categories by country, providing insight to where most competitions are for a given category. Based on the categories given we simplified them to 5 categories: drugs, services, counterfeits, weapons, and miscellaneous. The drugs category is consisted of anything that pertains to drugs and tobacco. The services category is consisted of stolen accounts to multiple websites such as Netflix, Hulu, HBO, etc. The counterfeits category is composed of fake clothing, credit cards, passports, etc. The weapons category contained guns, ammo, etc. Lastly, the miscellaneous category contained listings that did not fall under any of the 4 categories mentioned above which will not be explored here due to its randomness."
   ]
  },
  {
   "cell_type": "code",
   "execution_count": 1,
   "metadata": {
    "scrolled": true
   },
   "outputs": [
    {
     "data": {
      "text/html": [
       "\n",
       "        <iframe\n",
       "            width=\"900\"\n",
       "            height=\"600\"\n",
       "            src=\"./drugs.html\"\n",
       "            frameborder=\"0\"\n",
       "            allowfullscreen\n",
       "        ></iframe>\n",
       "        "
      ],
      "text/plain": [
       "<IPython.lib.display.IFrame at 0x1e86fc31550>"
      ]
     },
     "execution_count": 1,
     "metadata": {},
     "output_type": "execute_result"
    }
   ],
   "source": [
    "from IPython.display import IFrame\n",
    "\n",
    "IFrame('./drugs.html', width = 900, height = 600)"
   ]
  },
  {
   "cell_type": "code",
   "execution_count": 2,
   "metadata": {},
   "outputs": [
    {
     "data": {
      "text/html": [
       "\n",
       "        <iframe\n",
       "            width=\"900\"\n",
       "            height=\"600\"\n",
       "            src=\"./services.html\"\n",
       "            frameborder=\"0\"\n",
       "            allowfullscreen\n",
       "        ></iframe>\n",
       "        "
      ],
      "text/plain": [
       "<IPython.lib.display.IFrame at 0x1e86fc31e80>"
      ]
     },
     "execution_count": 2,
     "metadata": {},
     "output_type": "execute_result"
    }
   ],
   "source": [
    "IFrame('./services.html', width = 900, height = 600)"
   ]
  },
  {
   "cell_type": "code",
   "execution_count": 3,
   "metadata": {},
   "outputs": [
    {
     "data": {
      "text/html": [
       "\n",
       "        <iframe\n",
       "            width=\"900\"\n",
       "            height=\"600\"\n",
       "            src=\"./weapons.html\"\n",
       "            frameborder=\"0\"\n",
       "            allowfullscreen\n",
       "        ></iframe>\n",
       "        "
      ],
      "text/plain": [
       "<IPython.lib.display.IFrame at 0x1e86fc31f98>"
      ]
     },
     "execution_count": 3,
     "metadata": {},
     "output_type": "execute_result"
    }
   ],
   "source": [
    "IFrame('./weapons.html', width = 900, height = 600)"
   ]
  },
  {
   "cell_type": "markdown",
   "metadata": {},
   "source": [
    "The top country with the most frequent listings for drugs, services, and weapons is the United States sitting at around 32,000, 360, and 120 listings respectively. One explanation is during the years 2014 to 2015, Agora was one of the Dark Web’s biggest drug market. It is estimated that the market was making about \\$150,000 a day in sales alone from acting as a middleman between sellers and buyers (Greenberg). Its influence was so vast that it had more product listings than any other drug market at the time of its peak (Greenberg). Another explanation why is due to the United States’ postal service system. The postal service became a popular method for the transportation of drugs because even though it was monitored by law enforcement, actual investigation proved to be difficult and tedious. Also, state and local law enforcement do not have jurisdiction in the investigation of drugs shipped through the U.S. Postal Service. These factors could have enabled the United States to have the most frequent listings in the drugs category on the Agora marketplace (darkwebnews.com). \n",
    "\n",
    "The United States might have dominated the categories services and guns due to its popularity among people living there. Items in the service category are easy to sell because most of the items can be received online, but there was not a huge market for it. Regarding guns specifically, the amount of listings is too low for it to be significant for analysis or the low count may be an indicator that weapons are significantly harder to sell than drugs. It may explain why they are not as popular as drugs because they are commonplace in the real world so it is not as profitable in the market."
   ]
  },
  {
   "cell_type": "code",
   "execution_count": 4,
   "metadata": {},
   "outputs": [
    {
     "data": {
      "text/html": [
       "\n",
       "        <iframe\n",
       "            width=\"900\"\n",
       "            height=\"600\"\n",
       "            src=\"./counterfeits.html\"\n",
       "            frameborder=\"0\"\n",
       "            allowfullscreen\n",
       "        ></iframe>\n",
       "        "
      ],
      "text/plain": [
       "<IPython.lib.display.IFrame at 0x1e86fc31e48>"
      ]
     },
     "execution_count": 4,
     "metadata": {},
     "output_type": "execute_result"
    }
   ],
   "source": [
    "IFrame('./counterfeits.html', width = 900, height = 600)"
   ]
  },
  {
   "cell_type": "markdown",
   "metadata": {},
   "source": [
    "The top country with the most frequent listings is China sitting at around 1200 listings. Many Chinese vendors on the dark web are known for stolen data and forged documents which may explain why they have the highest frequency of listings in the counterfeit category. In addition, since a vendor's location may not be their actual location, listing China as the source for a counterfeit good may give credence to this reputation as well. It is also possible that there may have been a Chinese only market (darkwebnews.com).\n",
    "\n",
    "Another thing to note is that Agora has mainly been used by English Speaking countries. This makes sense since Agora itself uses English for its platform and that all of the data we used was in English. However, this makes China's predominance in one of the 5 major categories more interesting. Their presence in a majority English-speaking medium shows us that China is dominating in the counterfeit good territory and can even dominate foreign markets.\n",
    "\n",
    "A final note about this data is the validity of self-reported locations. In this analysis we assumed that what a vendor put as their location is their actual location. However, when processing the list of self-reported countries there were many that listed fake and/or ambiguous locations such as 'Torland' or 'Internet' which were removed. "
   ]
  },
  {
   "cell_type": "markdown",
   "metadata": {},
   "source": [
    "### Top Rated vs Low Rated Vendors Over Time"
   ]
  },
  {
   "cell_type": "markdown",
   "metadata": {},
   "source": [
    "Next we compared top rated, active vendors lifetimes to the rest of the vendors in the market. The ratings were obtained from the Kaggle data since the Gwern data did not have any column for ratings. We selected the top 20 most active vendors with an average rating of 4.8 or higher to be the top rated vendors. We also selected the top 20 most active vendors with an average rating of 3.0 or lower to be the low rated vendors. We used the vendor’s total number of posts in the kaggle data to measure activity. Higher number of posts meant more active.<br>\n",
    "\n",
    "Once we got the list of high rated and low rated vendors, we subsetted the Gwern data and got all of the posts from these vendors. From this subset of Gwern data we created a top rated vs low rated plot to see the vendor activity over the Agora timespan. We plotted the number of posts each vendor made per month. The side on the left is the top rated vendors and the side on the right is the low rated vendors. <br>\n",
    "\n",
    "(The GIF and the Bokeh plot show the same thing.)\n",
    "<img src=\"agora.gif\" title=\"High Rated vs Low Rated Vendors Over Time\" />"
   ]
  },
  {
   "cell_type": "code",
   "execution_count": 5,
   "metadata": {},
   "outputs": [
    {
     "data": {
      "text/html": [
       "\n",
       "        <iframe\n",
       "            width=\"600\"\n",
       "            height=\"600\"\n",
       "            src=\"./agora.html\"\n",
       "            frameborder=\"0\"\n",
       "            allowfullscreen\n",
       "        ></iframe>\n",
       "        "
      ],
      "text/plain": [
       "<IPython.lib.display.IFrame at 0x1e86fc6a1d0>"
      ]
     },
     "execution_count": 5,
     "metadata": {},
     "output_type": "execute_result"
    }
   ],
   "source": [
    "IFrame('./agora.html', width = 600, height = 600)"
   ]
  },
  {
   "cell_type": "markdown",
   "metadata": {},
   "source": [
    "__Observations:__\n",
    "\n",
    "1) The top rated sellers have a drastically higher number of posts.\n",
    "\n",
    "2) Most of the items on the market is drugs at the start of the market. Near the end of the market, more services and counterfeits get sold in addition to the drugs.\n",
    "\n",
    "3) Mssource was the leading vendor of this subset for the first 5 months. In November 2014, mssource was passed by three other vendors: captainkirk, rc4me, and profesorhouse. After this month, mssource leaves the market completely. Mssource mainly sold drugs. He could have left the market due to competition with other vendors (notably rc4me).\n",
    "\n",
    "4) Rc4me had the highest drug count in a month on the market in November 2014. Rc4me started in July 2014 and leaves after April 2015. Rc4me was one of the bigger drug vendors when he was in the market. \n",
    "\n",
    "5) Sexyhomer was a big source of counterfeits from November 2014 to April 2015.\n",
    "\n",
    "6) Captainkirk has been active for the whole timespan and with relatively high number of posts. Captainkirk sold a good variety of items (mainly drugs, services, and counterfeits). <br>\n",
    "\n",
    "__Notes:__\n",
    "\n",
    "1) This data was only for the vendors selected from the kaggle data. The kaggle data was a lot smaller so there could have been more active sellers in the Gwern data. We just did not have any rating measure for them so they were not included. \n",
    "\n",
    "2) Our categorization algorithm was used to categorize this data. We noted before that our categorizer algorithm was about 87.6% accurate. So this plot is fairly accurate in representing their posts in those specified categories. \n",
    "\n",
    "3) Some months had no data so those months were left out. April 2015 to July 2015 seemed to be an important jump to leave out, since a lot of vendors had some changes from this time jump."
   ]
  },
  {
   "cell_type": "markdown",
   "metadata": {},
   "source": [
    "<img src=\"highrate.png\" title=\"High Rated Vendors Over Time\" />\n",
    "<img src=\"lowrate.png\" title=\"Low Rated Vendors Over Time\" />\n",
    "From these lineplots, we can see the span of each vendor. The length of each line represents the span of a vendor on the market. The height of each line is how active the vendor is. The low rated vendors have a shorter span in the market than the high rated vendors on average. <br>\n",
    "\n",
    "We would conclude that higher ratings would correlate with a longer lifespan on the market.\n",
    "We found that on average, the high rated vendors stayed in the market for 10.6 months while the low rated vendors stayed in the market for 3.3 months on average. There are also a lot of spikes in the plots so the number of items a vendor sells do change every month."
   ]
  },
  {
   "cell_type": "markdown",
   "metadata": {},
   "source": [
    "### Activity Levels of Top Rated, Active Vendors vs. Other Vendors "
   ]
  },
  {
   "cell_type": "code",
   "execution_count": 6,
   "metadata": {},
   "outputs": [
    {
     "data": {
      "text/html": [
       "\n",
       "        <iframe\n",
       "            width=\"620\"\n",
       "            height=\"420\"\n",
       "            src=\"./stacked.html\"\n",
       "            frameborder=\"0\"\n",
       "            allowfullscreen\n",
       "        ></iframe>\n",
       "        "
      ],
      "text/plain": [
       "<IPython.lib.display.IFrame at 0x1e86fc6a080>"
      ]
     },
     "execution_count": 6,
     "metadata": {},
     "output_type": "execute_result"
    }
   ],
   "source": [
    "IFrame('./stacked.html', width = 620, height = 420)"
   ]
  },
  {
   "cell_type": "markdown",
   "metadata": {},
   "source": [
    "The figure above illustrates how often successful vendors and rest of the other vendors tend to post in a given category. The activity levels in each category for all other vendors are averaged. The top 20 active, highest rated sellers focus on sales in 3 prominent categories: drugs, miscellaneous, and services, respectively. We initially expect the activity levels in each category for the rest of the vendors to reflect the proportions for each category for top active vendors. We hypothesized that the postings for the rest of the vendors would primarily be drug related and at least 25 percent of those posts would advertise services or miscellaneous goods. <br>\n",
    "\n",
    "Results are contrary to the initial hypothesis. Not all observed patterns for the top rated, active vendors are applicable to the rest of vendors. The number of postings in the service and miscellaneous sections is significantly lower for other vendors. On the other hand, we are right that the drugs category would be the most popular, but we fail to predict that it would over dominate all other categories. However, as mentioned above, the stacked bar for other vendors is an average and the average might not be the best representation of the activity levels for all other vendors as the proportions could be distorted by extremes. <br>\n",
    "\n",
    "The high count of drug-related posts and the unpopular weapons category can all be attributed to their level of attainability in the real world. Compared to illicit drugs, weapons and counterfeits are much more common and accessible outside the cryptomarket. Thus, the demand for them is lower too. One thing to note is the term ‘weapons’ is extremely broad here; anything that can inflict damage would be considered a weapon. In that case, there are less incentives to buying in the darknet market as buying 'weapons' in the real world would be a safer alternative. People can additionally get access to firearms by requesting for a permit, justifying the abnormally low count of weapons listing."
   ]
  },
  {
   "cell_type": "markdown",
   "metadata": {},
   "source": [
    "### Sub-Categories"
   ]
  },
  {
   "cell_type": "code",
   "execution_count": 7,
   "metadata": {},
   "outputs": [
    {
     "data": {
      "text/html": [
       "\n",
       "        <iframe\n",
       "            width=\"900\"\n",
       "            height=\"600\"\n",
       "            src=\"./top20vsrest.html\"\n",
       "            frameborder=\"0\"\n",
       "            allowfullscreen\n",
       "        ></iframe>\n",
       "        "
      ],
      "text/plain": [
       "<IPython.lib.display.IFrame at 0x1e86fc6a4a8>"
      ]
     },
     "execution_count": 7,
     "metadata": {},
     "output_type": "execute_result"
    }
   ],
   "source": [
    "IFrame('./top20vsrest.html', width = 900, height = 600)"
   ]
  },
  {
   "cell_type": "code",
   "execution_count": 8,
   "metadata": {},
   "outputs": [
    {
     "data": {
      "text/html": [
       "\n",
       "        <iframe\n",
       "            width=\"950\"\n",
       "            height=\"600\"\n",
       "            src=\"./subcatitems.html\"\n",
       "            frameborder=\"0\"\n",
       "            allowfullscreen\n",
       "        ></iframe>\n",
       "        "
      ],
      "text/plain": [
       "<IPython.lib.display.IFrame at 0x1e86fc6a748>"
      ]
     },
     "execution_count": 8,
     "metadata": {},
     "output_type": "execute_result"
    }
   ],
   "source": [
    "IFrame('./subcatitems.html', width=950, height=600)"
   ]
  },
  {
   "cell_type": "markdown",
   "metadata": {},
   "source": [
    "Next we looked into the subcategories of what vendors are selling. We can see that the most popular item category in Agora is Cannabis with 30,000 observations in the Kaggle data set. The market for Cannabis in Agora is so huge that it dwarfs all others and has more than double postings than the next most popular category. We found that more than 95% of the postings for Cannabis were from non top rated, active vendors. <br>\n",
    "\n",
    "Continuing off the last point, the popularity of Cannabis in top rated, active vendors and others tells us that many vendors are selling Cannabis. One cause of the variety of vendors posting about Cannabis may come from its legalization across a few different state in the US (Berke). People who may want to make some easy money buying and reselling weed to states where it is not legal. Regardless of the potential reasons behind the popularity of Cannabis amongst Agora users, we can see current the current laws of the prohibition of Cannabis is widely unpopular.<br>\n",
    "\n",
    "Moving on, the second most popular category of items that top rated, active vendors sold were e-books with almost 1,500 thousand observations of this in the Kaggle data set. This tells us that one of the most sustainable markets in Agora is for ebooks. This may come from the ease in generating or providing eBooks. Another reason why successful vendors have longer lifespans in this market may be because law enforcement agencies may not be looking for people who illegally share books online. This makes it a lot safer and sustainable for vendors to thrive and survive in this market and may also be why top rated, active vendors tend not to sell in the drugs market in Agora."
   ]
  },
  {
   "cell_type": "markdown",
   "metadata": {},
   "source": [
    "### Conclusion"
   ]
  },
  {
   "cell_type": "markdown",
   "metadata": {},
   "source": [
    "In conclusion, we found that a majority of the business done on Agora was in English speaking countries, the market is dominated by a handful of active top rated vendors, the categories that vendors sell in is varied, and that successful vendors sell very different things from other vendors. Drugs were the most popular product sold, specifically cannibis. We also found that high ratings provide more longevity in the market, almost 3 times more than low rated vendors. However, these findings do come with some constraints. \n",
    "\n",
    "Due to the nature of Darknet markets, vendor lifespan cannot be tracked across multiple years since many markets close within a year of being active. Some next steps would be tracking vendor activity across different markets. We could investigate if vendors are likely to sell across multiple markets or if they mainly sell in one market. We may also want to know if vendors collectively go to the same new market when the current market closes or if they stop selling in general."
   ]
  },
  {
   "cell_type": "markdown",
   "metadata": {},
   "source": [
    "### Citations"
   ]
  },
  {
   "cell_type": "markdown",
   "metadata": {},
   "source": [
    "Berke, Jeremy. “This Map Shows Every US State Where Pot Is Legal.” Business Insider, Business Insider, 4 Jan. 2019, www.businessinsider.com/legal-marijuana-states-2018-1.\n",
    "\n",
    "“Comparison Between the Chinese and Russian Dark Web Communities.” Dark Web News, 27 Nov. 2018, darkwebnews.com/dark-web/chinese-russian-darknet-communities-comparison/.<br>\n",
    "\n",
    "European Monitoring Centre for Drugs and Drug Addiction and Europol (2017), Drugs and the darknet: Perspectives for enforcement, research and policy, EMCDDA–Europol Joint publications, Publications Office of the European Union, Luxembourg. <br>\n",
    "\n",
    "Greenberg, Andy. “Agora, the Dark Web's Biggest Drug Market, Is Going Offline.” Wired, Conde Nast, 29 June 2017, www.wired.com/2015/08/agora-dark-webs-biggest-drug-market-going-offline/.<br>\n",
    "\n",
    "Greenberg, Andy. “Drug Market 'Agora' Replaces the Silk Road as King of the Dark Net.” Wired, Conde Nast, 3 June 2017, www.wired.com/2014/09/agora-bigger-than-silk-road/.<br>\n",
    "\n",
    "Gwern Branwen, Nicolas Christin, David Décary-Hétu, Rasmus Munksgaard Andersen, StExo, El Presidente, Anonymous, Daryl Lau, Sohhlz, Delyan Kratunov, Vince Cakic, Van Buskirk, Whom, Michael McKenna, Sigi Goode. “Dark Net Market archives, 2011–2015”, 12 July 2015. Web. [access date] https://www.gwern.net/DNM-archives<br>\n",
    "\n",
    "“How to Legally Accept a Drug Package as Per Police and Prosecutors.” Dark Web News, 28 Apr. 2016, darkwebnews.com/help-advice/legally-accept-drug-package-per-police-prosecutors/.<br>"
   ]
  }
 ],
 "metadata": {
  "kernelspec": {
   "display_name": "Python 3",
   "language": "python",
   "name": "python3"
  },
  "language_info": {
   "codemirror_mode": {
    "name": "ipython",
    "version": 3
   },
   "file_extension": ".py",
   "mimetype": "text/x-python",
   "name": "python",
   "nbconvert_exporter": "python",
   "pygments_lexer": "ipython3",
   "version": "3.7.1"
  }
 },
 "nbformat": 4,
 "nbformat_minor": 2
}
